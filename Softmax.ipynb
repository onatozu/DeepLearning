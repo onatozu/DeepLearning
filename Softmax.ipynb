{
 "cells": [
  {
   "cell_type": "code",
   "execution_count": 84,
   "metadata": {},
   "outputs": [],
   "source": [
    "import numpy as np\n",
    "import math"
   ]
  },
  {
   "cell_type": "code",
   "execution_count": 167,
   "metadata": {},
   "outputs": [],
   "source": [
    "def softmax(x):\n",
    "    \n",
    "    if len(x.shape) == 1:\n",
    "        x = np.array([x]);\n",
    "    \n",
    "    number_of_samples = x.shape[1];\n",
    "    probabilities = list();\n",
    "    \n",
    "    if(x.shape[0] != 1):\n",
    "\n",
    "        for i in range(0,number_of_samples):\n",
    "\n",
    "            sample = x[:,i];\n",
    "\n",
    "            sum = 0;\n",
    "            for score in sample:\n",
    "                sum += math.exp(score);\n",
    "\n",
    "            sample_probabilities = list();\n",
    "            for score in sample:\n",
    "                sample_probabilities.append(math.exp(score)/sum);\n",
    "\n",
    "            probabilities.append(sample_probabilities);\n",
    "            \n",
    "\n",
    "    else:\n",
    "        \n",
    "        sample = x[0];\n",
    "\n",
    "        sum = 0;\n",
    "        for score in sample:\n",
    "            sum += math.exp(score);\n",
    "\n",
    "        for score in sample:\n",
    "            probabilities.append(math.exp(score)/sum);        \n",
    "        \n",
    "    \n",
    "\n",
    "    probabilities = np.array(probabilities)\n",
    "    probabilities = np.transpose(probabilities)\n",
    "    return probabilities;"
   ]
  },
  {
   "cell_type": "code",
   "execution_count": 173,
   "metadata": {},
   "outputs": [],
   "source": [
    "def softmax_simplified(x):\n",
    "    return np.exp(x) / np.sum(np.exp(x), axis = 0)"
   ]
  },
  {
   "cell_type": "code",
   "execution_count": 179,
   "metadata": {
    "scrolled": false
   },
   "outputs": [],
   "source": [
    "# 1-d example:\n",
    "scores = np.array([1.0, 2.0, 3.0]);\n",
    "softmax(scores);"
   ]
  },
  {
   "cell_type": "code",
   "execution_count": 180,
   "metadata": {},
   "outputs": [],
   "source": [
    "scores = np.array([[1, 2, 3, 6],\n",
    "                   [2, 4, 5, 6],\n",
    "                   [3, 8, 7, 6]]);\n",
    "softmax(scores);"
   ]
  },
  {
   "cell_type": "code",
   "execution_count": 181,
   "metadata": {},
   "outputs": [],
   "source": [
    "# What happens when scores are multiplied by 10:\n",
    "softmax(scores*10);\n",
    "# Probabilities get close to either 0 or 1!"
   ]
  },
  {
   "cell_type": "code",
   "execution_count": 182,
   "metadata": {},
   "outputs": [],
   "source": [
    "# What happens when scores are divided by 10:\n",
    "softmax(scores/10);\n",
    "# Probabilities get close to the uniform distribution!"
   ]
  }
 ],
 "metadata": {
  "kernelspec": {
   "display_name": "Python 3",
   "language": "python",
   "name": "python3"
  },
  "language_info": {
   "codemirror_mode": {
    "name": "ipython",
    "version": 3
   },
   "file_extension": ".py",
   "mimetype": "text/x-python",
   "name": "python",
   "nbconvert_exporter": "python",
   "pygments_lexer": "ipython3",
   "version": "3.6.5"
  }
 },
 "nbformat": 4,
 "nbformat_minor": 2
}
